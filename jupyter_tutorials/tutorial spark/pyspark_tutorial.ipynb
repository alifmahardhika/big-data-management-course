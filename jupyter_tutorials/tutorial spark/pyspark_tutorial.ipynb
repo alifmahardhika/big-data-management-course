{
 "metadata": {
  "language_info": {
   "codemirror_mode": {
    "name": "ipython",
    "version": 3
   },
   "file_extension": ".py",
   "mimetype": "text/x-python",
   "name": "python",
   "nbconvert_exporter": "python",
   "pygments_lexer": "ipython3",
   "version": "3.8.2-final"
  },
  "orig_nbformat": 2,
  "kernelspec": {
   "name": "Python 3.8.2 32-bit",
   "display_name": "Python 3.8.2 32-bit",
   "metadata": {
    "interpreter": {
     "hash": "416b3b3d7c2861747334a644f3bc9cc09375166302abdd382b9b4cd7a6e01994"
    }
   }
  }
 },
 "nbformat": 4,
 "nbformat_minor": 2,
 "cells": [
  {
   "cell_type": "code",
   "execution_count": 1,
   "metadata": {},
   "outputs": [],
   "source": [
    "# SETUP SPARK IN WINDOWS\n",
    "import findspark\n",
    "SPARK_HOME='C:\\spark\\spark-3.0.1-bin-hadoop2.7'\n",
    "findspark.init('C:/spark/spark-3.0.1-bin-hadoop2.7')\n",
    "findspark.find()\n",
    "import pyspark\n",
    "findspark.find()\n",
    "from pyspark import SparkContext, SparkConf\n",
    "from pyspark.sql import SparkSession\n",
    "# conf = pyspark.SparkConf().setAppName('appName').setMaster('local')\n",
    "# sc = pyspark.SparkContext.getOrCreate(conf=conf)\n"
   ]
  },
  {
   "cell_type": "code",
   "execution_count": 13,
   "metadata": {},
   "outputs": [
    {
     "output_type": "stream",
     "name": "stdout",
     "text": [
      "+----+----+----+-----+\n|col1|col2|col3| col4|\n+----+----+----+-----+\n|   1|   2|   3|a b c|\n|   4|   5|   6|d e f|\n|   7|   8|   9|g h i|\n+----+----+----+-----+\n\n"
     ]
    }
   ],
   "source": [
    "spark = SparkSession.builder.appName(\"Python Spark create RDD example\").config(\n",
    "    \"spark.some.config.option\", \"some-value???\").getOrCreate()\n",
    "df = spark.sparkContext.parallelize(\n",
    "    [(1, 2, 3, 'a b c'), (4, 5, 6, 'd e f'), (7, 8, 9, 'g h i')]).toDF(['col1', 'col2', 'col3', 'col4'])\n",
    "df.show()"
   ]
  },
  {
   "cell_type": "code",
   "execution_count": 16,
   "metadata": {},
   "outputs": [
    {
     "output_type": "execute_result",
     "data": {
      "text/plain": [
       "[(1, 2), (3, 4), (5, 6), (7, 8), (9, 10)]"
      ]
     },
     "metadata": {},
     "execution_count": 16
    }
   ],
   "source": [
    "from pyspark.sql import SparkSession\n",
    "spark = SparkSession \\\n",
    ".builder \\\n",
    ".appName(\"Python Spark create RDD example\") \\\n",
    ".config(\"spark.some.config.option\", \"some-value\") \\\n",
    ".getOrCreate()\n",
    "myData = spark.sparkContext.parallelize([(1,2), (3,4), (5,6), (7,8),(9,10)])\n",
    "myData.collect()"
   ]
  },
  {
   "cell_type": "code",
   "execution_count": 17,
   "metadata": {},
   "outputs": [
    {
     "output_type": "stream",
     "name": "stdout",
     "text": [
      "+---+-----+-------+------------+\n| Id| Name|Sallary|DepartmentId|\n+---+-----+-------+------------+\n|  1|  Joe|  70000|           1|\n|  2|Henry|  80000|           2|\n|  3|  Sam|  60000|           2|\n|  4|  Max|  90000|           1|\n+---+-----+-------+------------+\n\n"
     ]
    }
   ],
   "source": [
    "from pyspark.sql import SparkSession\n",
    "spark = SparkSession \\\n",
    ".builder \\\n",
    ".appName(\"Python Spark create RDD example\") \\\n",
    ".config(\"spark.some.config.option\", \"some-value\") \\\n",
    ".getOrCreate()\n",
    "Employee = spark.createDataFrame([\n",
    "('1', 'Joe', '70000', '1'),\n",
    "('2', 'Henry', '80000', '2'),\n",
    "('3', 'Sam', '60000', '2'),\n",
    "('4', 'Max', '90000', '1')],\n",
    "['Id', 'Name', 'Sallary','DepartmentId']\n",
    ")\n",
    "Employee.show()\n"
   ]
  },
  {
   "cell_type": "code",
   "execution_count": 7,
   "metadata": {},
   "outputs": [
    {
     "output_type": "stream",
     "name": "stdout",
     "text": [
      "+-----+-----+---------+-----+\n|   TV|Radio|Newspaper|Sales|\n+-----+-----+---------+-----+\n|230.1| 37.8|     69.2| 22.1|\n| 44.5| 39.3|     45.1| 10.4|\n| 17.2| 45.9|     69.3|  9.3|\n|151.5| 41.3|     58.5| 18.5|\n|180.8| 10.8|     58.4| 12.9|\n+-----+-----+---------+-----+\nonly showing top 5 rows\n\nroot\n |-- TV: double (nullable = true)\n |-- Radio: double (nullable = true)\n |-- Newspaper: double (nullable = true)\n |-- Sales: double (nullable = true)\n\n"
     ]
    }
   ],
   "source": [
    "## set up SparkSession\n",
    "from pyspark.sql import SparkSession\n",
    "spark = SparkSession \\\n",
    ".builder \\\n",
    ".appName(\"Python Spark create RDD example\") \\\n",
    ".config(\"spark.some.config.option\", \"some-value\") \\\n",
    ".getOrCreate()\n",
    "#local\n",
    "data_path=\"data/Advertising.csv\"\n",
    "df = spark.read.format('com.databricks.spark.csv').\\\n",
    "options(header='true', \\\n",
    "inferschema='true').\\\n",
    "load(data_path,header=True)\n",
    "df.show(5)\n",
    "df.printSchema()\n"
   ]
  },
  {
   "cell_type": "code",
   "execution_count": 12,
   "metadata": {},
   "outputs": [
    {
     "output_type": "stream",
     "name": "stdout",
     "text": [
      "['TV,Radio,Newspaper,Sales', '230.1,37.8,69.2,22.1', '44.5,39.3,45.1,10.4', '17.2,45.9,69.3,9.3', '151.5,41.3,58.5,18.5']\n"
     ]
    }
   ],
   "source": [
    "from pyspark.context import SparkContext\n",
    "from pyspark.sql import SparkSession\n",
    "sc= SparkContext.getOrCreate()\n",
    "spark = SparkSession(sparkContext=sc)\n",
    "#local\n",
    "tf1=sc.textFile(\"data/Advertising.csv\")\n",
    "print(tf1.take(5))"
   ]
  },
  {
   "cell_type": "code",
   "execution_count": 14,
   "metadata": {},
   "outputs": [
    {
     "output_type": "execute_result",
     "data": {
      "text/plain": [
       "[Row(_c0='Mazda RX4', mpg=21.0, cyl=6, disp=160.0, hp=110, drat=3.9, wt=2.62, qsec=16.46, vs=0, am=1, gear=4, carb=4),\n",
       " Row(_c0='Mazda RX4 Wag', mpg=21.0, cyl=6, disp=160.0, hp=110, drat=3.9, wt=2.875, qsec=17.02, vs=0, am=1, gear=4, carb=4)]"
      ]
     },
     "metadata": {},
     "execution_count": 14
    }
   ],
   "source": [
    "data_path='data/mtcars.csv'\n",
    "mtcars = spark.read.csv(path=data_path,\n",
    "sep=',',\n",
    "encoding='UTF-8',\n",
    "comment=None,\n",
    "header=True,\n",
    "inferSchema=True)\n",
    "mtcars.rdd.take(2)\n"
   ]
  },
  {
   "cell_type": "code",
   "execution_count": 15,
   "metadata": {},
   "outputs": [
    {
     "output_type": "execute_result",
     "data": {
      "text/plain": [
       "[('Mazda RX4', 21.0),\n",
       " ('Mazda RX4 Wag', 21.0),\n",
       " ('Datsun 710', 22.8),\n",
       " ('Hornet 4 Drive', 21.4),\n",
       " ('Hornet Sportabout', 18.7)]"
      ]
     },
     "metadata": {},
     "execution_count": 15
    }
   ],
   "source": [
    "mtcars_map = mtcars.rdd.map(lambda x: (x['_c0'], x['mpg']))\n",
    "mtcars_map.take(5)\n"
   ]
  },
  {
   "cell_type": "code",
   "execution_count": 16,
   "metadata": {},
   "outputs": [
    {
     "output_type": "execute_result",
     "data": {
      "text/plain": [
       "[',mpg,cyl,disp,hp,drat,wt,qsec,vs,am,gear,carb',\n",
       " 'Mazda RX4,21,6,160,110,3.9,2.62,16.46,0,1,4,4',\n",
       " 'Mazda RX4 Wag,21,6,160,110,3.9,2.875,17.02,0,1,4,4',\n",
       " 'Datsun 710,22.8,4,108,93,3.85,2.32,18.61,1,1,4,1',\n",
       " 'Hornet 4 Drive,21.4,6,258,110,3.08,3.215,19.44,1,0,3,1']"
      ]
     },
     "metadata": {},
     "execution_count": 16
    }
   ],
   "source": [
    "# RDD TO DATAFRAME\n",
    "rdd_raw = sc.textFile('data/mtcars.csv')\n",
    "rdd_raw.take(5)\n"
   ]
  },
  {
   "cell_type": "code",
   "execution_count": 17,
   "metadata": {},
   "outputs": [
    {
     "output_type": "execute_result",
     "data": {
      "text/plain": [
       "['model',\n",
       " 'mpg',\n",
       " 'cyl',\n",
       " 'disp',\n",
       " 'hp',\n",
       " 'drat',\n",
       " 'wt',\n",
       " 'qsec',\n",
       " 'vs',\n",
       " 'am',\n",
       " 'gear',\n",
       " 'carb']"
      ]
     },
     "metadata": {},
     "execution_count": 17
    }
   ],
   "source": [
    "header = rdd_raw.map(lambda x: x.split(',')).filter(lambda x: x[1] ==\n",
    "'mpg').collect()[0]\n",
    "header[0] = 'model'\n",
    "header"
   ]
  },
  {
   "cell_type": "code",
   "execution_count": null,
   "metadata": {},
   "outputs": [],
   "source": []
  }
 ]
}